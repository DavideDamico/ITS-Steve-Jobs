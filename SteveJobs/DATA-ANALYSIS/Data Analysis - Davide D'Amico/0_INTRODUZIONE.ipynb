{
 "cells": [
  {
   "cell_type": "markdown",
   "id": "a8704587-edbd-45a5-a96f-2b595a810094",
   "metadata": {},
   "source": [
    "### Ciao corso 28! Ciao a tutti!!"
   ]
  },
  {
   "cell_type": "markdown",
   "id": "3d51172d-4a07-44dd-ac31-4bcb0ed6cc49",
   "metadata": {},
   "source": [
    "### Introduzione a Python "
   ]
  },
  {
   "cell_type": "code",
   "execution_count": null,
   "id": "ad9fc989-759a-4107-a2e4-79976ea3baac",
   "metadata": {
    "jp-MarkdownHeadingCollapsed": true
   },
   "outputs": [],
   "source": [
    "### Questo è un commento in Python\n",
    "\n"
   ]
  },
  {
   "cell_type": "code",
   "execution_count": null,
   "id": "a4c9fdf3-a771-4895-8e93-1e2ff3568b01",
   "metadata": {},
   "outputs": [],
   "source": [
    "print(\"Hello world!\")"
   ]
  },
  {
   "cell_type": "markdown",
   "id": "2f54858d-9290-4681-aa1c-a6691b77a878",
   "metadata": {
    "jp-MarkdownHeadingCollapsed": true
   },
   "source": [
    "# Titolo principale\n",
    "Questo è un esempio di testo **in grassetto** e *in corsivo*.\n",
    "\n",
    "- Punto 1\n",
    "- Punto 2\n",
    "- Punto 3\n",
    "#### Titolo principale\n",
    "Questo è un esempio di testo **in grassetto** e *in corsivo*.\n",
    "\n",
    "- Punto 1\n",
    "- Punto 2\n",
    "- Punto 3\n"
   ]
  },
  {
   "cell_type": "markdown",
   "id": "26cd6a45-0dbc-44a1-9669-fff2808724bc",
   "metadata": {},
   "source": [
    "# INIZIAMO IL TUTORIALONE!"
   ]
  },
  {
   "cell_type": "code",
   "execution_count": null,
   "id": "5008c574-afdf-4c6b-b806-879e65487e29",
   "metadata": {},
   "outputs": [],
   "source": [
    "# Inizializzazione di variabili\n",
    "x = 5  # Intero\n",
    "y = 3.14  # Numero decimale (float)\n",
    "nome = \"Python\"  # Stringa\n",
    "is_active = True  # Booleano\n"
   ]
  },
  {
   "cell_type": "markdown",
   "id": "42507b4b-a2bb-4911-ab97-3e8f2052ebd1",
   "metadata": {},
   "source": [
    "### Ne verifichiamo il tipo"
   ]
  },
  {
   "cell_type": "code",
   "execution_count": null,
   "id": "566c5a79-e929-4461-85e4-b491bc940300",
   "metadata": {},
   "outputs": [],
   "source": [
    "# Verifichiamo il tipo di alcune variabili\n",
    "print(type(x))  # int\n",
    "\n",
    "print(type(y))  # float\n",
    "print(type(nome))  # str\n",
    "print(type(is_active))  # bool"
   ]
  },
  {
   "cell_type": "markdown",
   "id": "e3c40821-98cf-4090-9ec1-651a9c9c796f",
   "metadata": {},
   "source": [
    "### Stampa diretta"
   ]
  },
  {
   "cell_type": "code",
   "execution_count": null,
   "id": "14d3eda4-a13a-44bb-ad94-f42a8eeec610",
   "metadata": {},
   "outputs": [],
   "source": [
    "a=3\n",
    "print(a)  \n",
    "type(a)"
   ]
  },
  {
   "cell_type": "code",
   "execution_count": null,
   "id": "2dc81032-aad4-4064-b5ee-545a025b0311",
   "metadata": {},
   "outputs": [],
   "source": [
    "a"
   ]
  },
  {
   "cell_type": "code",
   "execution_count": null,
   "id": "c997ff55-fea1-4820-9a1a-7890a97d7876",
   "metadata": {},
   "outputs": [],
   "source": [
    "type(a)"
   ]
  },
  {
   "cell_type": "code",
   "execution_count": null,
   "id": "923476a8-a08e-4ec7-b444-5124e9a5726a",
   "metadata": {},
   "outputs": [],
   "source": []
  },
  {
   "cell_type": "code",
   "execution_count": null,
   "id": "7fc939ef-2f37-40a5-bbf8-fc3436a5aa30",
   "metadata": {},
   "outputs": [],
   "source": []
  },
  {
   "cell_type": "markdown",
   "id": "3adae05f-7930-4f95-867b-3a50e3c7f69a",
   "metadata": {},
   "source": [
    "### Operazioni base "
   ]
  },
  {
   "cell_type": "code",
   "execution_count": null,
   "id": "e4f1a589-65dc-41ed-958b-098d7d7943a2",
   "metadata": {},
   "outputs": [],
   "source": [
    "# Somma\n",
    "a = 10\n",
    "b = 3\n",
    "somma = a + b\n",
    "print(\"Somma:\", somma)\n",
    "\n",
    "# Sottrazione\n",
    "sottrazione = a - b\n",
    "print(\"Sottrazione:\", sottrazione)\n",
    "\n",
    "# Moltiplicazione\n",
    "moltiplicazione = a * b\n",
    "print(\"Moltiplicazione:\", moltiplicazione)\n",
    "\n",
    "# Divisione\n",
    "divisione = a / b\n",
    "print(\"Divisione:\", divisione)\n",
    "\n",
    "# Divisione intera\n",
    "div_int = a // b\n",
    "print(\"Divisione intera:\", div_int)\n",
    "\n",
    "# Modulo (resto)\n",
    "modulo = a % b\n",
    "print(\"Modulo:\", modulo)\n",
    "\n",
    "# Elevamento a potenza \n",
    "potenza = a ** b\n",
    "print(\"potenza:\", potenza)"
   ]
  },
  {
   "cell_type": "markdown",
   "id": "f787e5b3-a7de-49f4-b946-6f26608db1d6",
   "metadata": {},
   "source": [
    "### Operazioni logiche"
   ]
  },
  {
   "cell_type": "code",
   "execution_count": null,
   "id": "e3ab2d3e-18fb-48bf-b301-0715471f8b8f",
   "metadata": {},
   "outputs": [],
   "source": [
    "# Operazioni logiche\n",
    "vero = True\n",
    "falso = False\n",
    "\n",
    "# AND logico\n",
    "print(vero and falso)  # False\n",
    "\n",
    "# OR logico\n",
    "print(vero or falso)  # True\n",
    "\n",
    "# NOT logico\n",
    "print(not vero)  # False\n",
    "\n",
    "# AND logico\n",
    "print(vero and (not falso))  # True"
   ]
  },
  {
   "cell_type": "markdown",
   "id": "057a837c-5000-4dca-b3cc-abd1d2802fb0",
   "metadata": {},
   "source": [
    "### STRINGHE"
   ]
  },
  {
   "cell_type": "code",
   "execution_count": null,
   "id": "a52fee5d-8339-46ab-a1c0-54fef9410d36",
   "metadata": {},
   "outputs": [],
   "source": [
    "# Creazione di una stringa\n",
    "stringa = \"Ciao, mondo!\"\n",
    "print(stringa)\n",
    "\n",
    "# Verifica del tipo\n",
    "print(type(stringa))"
   ]
  },
  {
   "cell_type": "code",
   "execution_count": null,
   "id": "4b33e39b-95bb-4997-a89d-2a4db93a701c",
   "metadata": {},
   "outputs": [],
   "source": [
    "# Concatenazione di due stringhe\n",
    "stringa1 = \"Ciao\"\n",
    "stringa2 = \"mondo\"\n",
    "concatenata = stringa1 + \", \" + stringa2 + \"!\"\n",
    "print(concatenata)"
   ]
  },
  {
   "cell_type": "code",
   "execution_count": null,
   "id": "ccf74fd4-d516-4dca-a1ee-cde9e123484b",
   "metadata": {},
   "outputs": [],
   "source": [
    "# Ripetizione di una stringa\n",
    "ripetuta = \"Python! \" * 3\n",
    "print(ripetuta)"
   ]
  },
  {
   "cell_type": "code",
   "execution_count": null,
   "id": "8aa89852-11ee-44dc-8751-97d8895b0b5d",
   "metadata": {},
   "outputs": [],
   "source": [
    "# Accesso a caratteri specifici in una stringa\n",
    "stringa = \"Python\"\n",
    "print(stringa[0])  # Primo carattere\n",
    "print(stringa[-1]) # Ultimo carattere"
   ]
  },
  {
   "cell_type": "code",
   "execution_count": null,
   "id": "eda5c722-c3df-4e0c-8a6f-0eaa6740b17c",
   "metadata": {},
   "outputs": [],
   "source": [
    "# Slicing di una stringa (estrazione di sottostringhe)\n",
    "stringa = \"Programmazione\"\n",
    "print(stringa[0:6])  # Primi sei caratteri\n",
    "print(stringa[7:])   # Dal settimo carattere in poi\n",
    "print(stringa[:6])   # Primi sei caratteri\n",
    "print(stringa[-5:])  # Ultimi cinque caratteri\n",
    "print(stringa[:-5])  # Ultimi cinque caratteri\n",
    "boh= stringa[:-5]\n",
    "boh"
   ]
  },
  {
   "cell_type": "code",
   "execution_count": null,
   "id": "2fd384f9-9db7-4953-99b0-89dcf39175b5",
   "metadata": {},
   "outputs": [],
   "source": [
    "# Calcolo della lunghezza di una stringa\n",
    "stringa = \"Python è fantastico\"\n",
    "lunghezza = len(stringa)\n",
    "print(lunghezza)"
   ]
  },
  {
   "cell_type": "code",
   "execution_count": null,
   "id": "bcbf5c31-ab70-4de8-8196-12b0c8a234fb",
   "metadata": {},
   "outputs": [],
   "source": [
    "# Conversione in maiuscolo e minuscolo\n",
    "stringa = \"Python è Fantastico!\"\n",
    "print(stringa.upper())  # Tutto maiuscolo\n",
    "print(stringa.lower())  # Tutto minuscolo\n",
    "print(stringa.capitalize())  # Solo il primo carattere maiuscolo"
   ]
  },
  {
   "cell_type": "code",
   "execution_count": null,
   "id": "c6dda613-90f1-45d1-9d39-e6c84549ab43",
   "metadata": {},
   "outputs": [],
   "source": [
    "# Dividere una stringa in una lista di parole\n",
    "frase = \"Python è un linguaggio di programmazione\"\n",
    "parole = frase.split()\n",
    "print(parole)\n",
    "\n",
    "# Unire una lista di parole in una stringa\n",
    "stringa_ricostruita = \" \".join(parole)\n",
    "print(stringa_ricostruita)\n",
    "\n",
    "parole[4]"
   ]
  },
  {
   "cell_type": "code",
   "execution_count": null,
   "id": "0c1b633f-0b59-4489-a387-f788770194b2",
   "metadata": {},
   "outputs": [],
   "source": [
    "# Sostituire una sottostringa\n",
    "stringa = \"Python è difficile\"\n",
    "nuova_stringa = stringa.replace(\"difficile\", \"facile\")\n",
    "print(nuova_stringa)"
   ]
  },
  {
   "cell_type": "code",
   "execution_count": null,
   "id": "37ad9546-ba94-4df3-839d-fee584c0dd8b",
   "metadata": {},
   "outputs": [],
   "source": [
    "# Verifica se una stringa contiene una sottostringa\n",
    "frase = \"Il linguaggio Python è versatile\"\n",
    "print(\"Python\" in frase)  # True\n",
    "print(frase.startswith(\"Il\"))  # True\n",
    "print(frase.endswith(\"versatile\"))  # True\n",
    "                            "
   ]
  },
  {
   "cell_type": "code",
   "execution_count": null,
   "id": "819016ac-4d39-4eb7-9837-1cdbaba7627c",
   "metadata": {},
   "outputs": [],
   "source": [
    "# Rimozione di spazi bianchi all'inizio e alla fine\n",
    "stringa = \"   Python è potente!   \"\n",
    "print(stringa.strip())   # Rimuove spazi iniziali e finali\n",
    "print(stringa.lstrip())  # Rimuove spazi solo a sinistra\n",
    "print(stringa.rstrip())  # Rimuove spazi solo a destra"
   ]
  },
  {
   "cell_type": "code",
   "execution_count": null,
   "id": "bb2b1c6a-5a99-4f44-a128-655be749d9d8",
   "metadata": {},
   "outputs": [],
   "source": [
    "# Formattazione di stringhe con f-string\n",
    "nome = \"Alice\"\n",
    "eta = 25\n",
    "messaggio = f\"Ciao, mi chiamo {nome} e ho {eta} anni.\"\n",
    "print(messaggio)"
   ]
  },
  {
   "cell_type": "code",
   "execution_count": null,
   "id": "8cfccba5-28e2-4dc3-8799-8e5b843385f0",
   "metadata": {},
   "outputs": [],
   "source": [
    "# Verifica se una stringa contiene solo numeri o lettere\n",
    "stringa1 = \"12345\"\n",
    "stringa2 = \"Python\"\n",
    "print(stringa1.isnumeric())  # True\n",
    "print(stringa2.isalpha())    # True"
   ]
  },
  {
   "cell_type": "code",
   "execution_count": null,
   "id": "63d0aa7d-ffc3-4e8f-a79c-82ab558fd8e1",
   "metadata": {},
   "outputs": [],
   "source": []
  },
  {
   "cell_type": "code",
   "execution_count": null,
   "id": "4384ad7e-d788-4630-a6b2-26c5eb83c9a9",
   "metadata": {},
   "outputs": [],
   "source": []
  },
  {
   "cell_type": "code",
   "execution_count": null,
   "id": "5173b8df-a35e-4c0f-843d-8c9d12f43c04",
   "metadata": {},
   "outputs": [],
   "source": [
    "nome = \"Python\"\n",
    "versione = \"3.10\"\n",
    "descrizione = nome + \" versione \" + versione\n",
    "print(descrizione)"
   ]
  },
  {
   "cell_type": "markdown",
   "id": "092d902f-77d3-462f-b4eb-0a9749a56dd4",
   "metadata": {},
   "source": [
    "### Conversioni"
   ]
  },
  {
   "cell_type": "code",
   "execution_count": null,
   "id": "f0a7d599-8e24-42cb-9290-95c3dc50f40a",
   "metadata": {
    "scrolled": true
   },
   "outputs": [],
   "source": [
    "# Convertire un intero in stringa\n",
    "numero = 42\n",
    "numero_str = str(numero)\n",
    "print(\"Numero come stringa:\", numero_str)\n",
    "\n",
    "# Convertire una stringa in intero\n",
    "eta_str = \"30\"\n",
    "eta = int(eta_str)\n",
    "print(\"Età come intero:\", eta)\n",
    "\n",
    "# Convertire stringa in float\n",
    "valore_str = \"3.14\"\n",
    "valore = float(valore_str)\n",
    "print(\"Valore come float:\", valore)"
   ]
  },
  {
   "cell_type": "markdown",
   "id": "9646a98f-adf5-4a4b-bb79-d39dd64b6ae8",
   "metadata": {},
   "source": [
    "### LISTE"
   ]
  },
  {
   "cell_type": "code",
   "execution_count": null,
   "id": "97d15279-00bd-4d2d-841b-a30608c2f8c1",
   "metadata": {},
   "outputs": [],
   "source": [
    "lista = [1, 2, 3]\n",
    "lista[0] = 100  # Modifico il primo elemento\n",
    "print(lista)  # [100, 2, 3]"
   ]
  },
  {
   "cell_type": "code",
   "execution_count": null,
   "id": "09f05df4-47ee-4dfe-ace6-a55dbed5712e",
   "metadata": {},
   "outputs": [],
   "source": [
    "lista = [1, 2, 3,4,5,4,3,8,9]\n",
    "lista.append(4)  # Aggiunge un elemento\n",
    "lista.remove(4) # Rimuove un elemento     !!!!\n",
    "print(lista)  # [1, 3, 4]lista = [1, 2, 3]"
   ]
  },
  {
   "cell_type": "code",
   "execution_count": null,
   "id": "a1f995ad-2420-4ee5-b542-9355edfd34b8",
   "metadata": {},
   "outputs": [],
   "source": [
    "lista[-1], lista[-2]"
   ]
  },
  {
   "cell_type": "markdown",
   "id": "65916af9-050d-40f2-8136-c1084be4d035",
   "metadata": {},
   "source": [
    "### Slicing delle liste"
   ]
  },
  {
   "cell_type": "code",
   "execution_count": null,
   "id": "80141476-722c-422f-89fc-229bbb34d527",
   "metadata": {},
   "outputs": [],
   "source": [
    "# Lo slicing consente di ottenere una porzione della lista specificando un intervallo di indici.\n",
    "# La sintassi è: lista[inizio:fine:passo], dove 'inizio' è incluso e 'fine' è escluso.\n",
    "lista = [1, 2, 3,4,5,4,3,8,9]\n",
    "# Otteniamo i primi tre elementi (indice 0 incluso, indice 3 escluso)\n",
    "slicing1 = lista[0:3]\n",
    "\n",
    "# Otteniamo gli elementi dal secondo all'ultimo\n",
    "slicing2 = lista[1:]\n",
    "\n",
    "# Otteniamo ogni secondo elemento\n",
    "slicing3 = lista[::2]\n",
    "\n",
    "slicing1, slicing2, slicing3"
   ]
  },
  {
   "cell_type": "markdown",
   "id": "fc43bf45-4f74-48c8-845c-cdb84e36520a",
   "metadata": {},
   "source": [
    "### Altre operazioni utili"
   ]
  },
  {
   "cell_type": "code",
   "execution_count": null,
   "id": "72ff9818-961a-4a52-bd6d-8e3cacddb1e7",
   "metadata": {},
   "outputs": [],
   "source": [
    "lista = [1, 2, 3,4,5,4,3,8,9]\n",
    "# Lunghezza della lista\n",
    "lunghezza = len(lista)\n",
    "\n",
    "# Controllare se un elemento è presente nella lista\n",
    "is_present = \"Python\" in lista\n",
    "\n",
    "lunghezza, is_present"
   ]
  },
  {
   "cell_type": "code",
   "execution_count": null,
   "id": "64f7dcf5-7ec3-4b4e-9e05-6de0bf45c876",
   "metadata": {},
   "outputs": [],
   "source": []
  },
  {
   "cell_type": "code",
   "execution_count": null,
   "id": "39d5d9e4-8680-41c2-9b55-06367da56733",
   "metadata": {},
   "outputs": [],
   "source": []
  },
  {
   "cell_type": "markdown",
   "id": "7b5f6299-6704-4616-9b31-0655d16c087e",
   "metadata": {},
   "source": [
    "Lista: Le liste offrono molte funzionalità per la modifica del contenuto, come append(), remove(), pop(), sort(), ecc."
   ]
  },
  {
   "cell_type": "code",
   "execution_count": null,
   "id": "e9ca5039-cd29-4594-aef8-df2606d20d1a",
   "metadata": {},
   "outputs": [],
   "source": [
    "lista_strana= [0 , \"marcella\", 5.84, [ 1, 2, 3 ]]"
   ]
  },
  {
   "cell_type": "code",
   "execution_count": null,
   "id": "88827476-224d-4ca9-bb1d-2b71722d539a",
   "metadata": {},
   "outputs": [],
   "source": [
    "print(type(lista_strana[0]))  # int\n",
    "print(type(lista_strana[1]))  # int\n",
    "print(type(lista_strana[2]))  # int\n",
    "print(type(lista_strana[3]))  # int"
   ]
  },
  {
   "cell_type": "code",
   "execution_count": null,
   "id": "0544ae81-5a06-4d05-a813-a663268b51cd",
   "metadata": {},
   "outputs": [],
   "source": [
    "lista.remove?"
   ]
  },
  {
   "cell_type": "code",
   "execution_count": null,
   "id": "c0f2ed4a-8e89-4cea-be7e-4a378e8f9759",
   "metadata": {},
   "outputs": [],
   "source": []
  },
  {
   "cell_type": "code",
   "execution_count": null,
   "id": "2160ec63-264b-4a39-8a2f-cd4ff378acf1",
   "metadata": {},
   "outputs": [],
   "source": []
  },
  {
   "cell_type": "code",
   "execution_count": null,
   "id": "bacebc4e-efb4-4889-919f-e20bd548de34",
   "metadata": {},
   "outputs": [],
   "source": []
  },
  {
   "cell_type": "code",
   "execution_count": null,
   "id": "5fbb58bc-6f25-4de8-b250-014ee95d2c9d",
   "metadata": {},
   "outputs": [],
   "source": []
  },
  {
   "cell_type": "code",
   "execution_count": null,
   "id": "fde904db-b945-4f26-904a-a9d5afaaebea",
   "metadata": {},
   "outputs": [],
   "source": []
  },
  {
   "cell_type": "code",
   "execution_count": null,
   "id": "56ec9694-c4be-4368-87e8-4f79487670d3",
   "metadata": {},
   "outputs": [],
   "source": []
  },
  {
   "cell_type": "markdown",
   "id": "da761ac7-e87f-4152-b74d-e160117320e1",
   "metadata": {},
   "source": [
    "### Tuple"
   ]
  },
  {
   "cell_type": "code",
   "execution_count": null,
   "id": "bdd0d0be-0128-4c33-990b-30ae784ed575",
   "metadata": {},
   "outputs": [],
   "source": [
    "tupla = (1, 2, 3)\n",
    "tupla[0] = 100  # Questo genererà un errore perché le tuple sono immutabilitupla = (1, 2, 3)\n",
    "tupla[0] = 100  # Questo genererà un errore perché le tuple sono immutabili"
   ]
  },
  {
   "cell_type": "code",
   "execution_count": null,
   "id": "201557bb-5299-4200-af5d-1a0bbe80e2fa",
   "metadata": {},
   "outputs": [],
   "source": [
    "tupla_singolo = (5,)  # Tupla con un solo elemento\n"
   ]
  },
  {
   "cell_type": "markdown",
   "id": "d3d468b8-d885-4795-b573-7077d8cdbc02",
   "metadata": {},
   "source": [
    "Tupla: Le tuple non hanno questi metodi poiché non possono essere modificate. Puoi solo accedere agli elementi di una tupla o usare metodi come count() e index()."
   ]
  },
  {
   "cell_type": "markdown",
   "id": "0d6fb00c-484d-45ea-b4fd-7a51006134d4",
   "metadata": {},
   "source": [
    "### Cicli"
   ]
  },
  {
   "cell_type": "code",
   "execution_count": null,
   "id": "6b88e86d-59b1-4f49-9670-ba2d2cba31fa",
   "metadata": {},
   "outputs": [],
   "source": [
    "# Creazione di una lista\n",
    "frutti = [\"mela\", \"banana\", \"ciliegia\"]\n",
    "print(frutti)\n",
    "\n",
    "# Aggiungere un elemento alla lista\n",
    "frutti.append(\"arancia\")\n",
    "print(frutti)\n",
    "\n",
    "# Rimuovere un elemento dalla lista\n",
    "frutti.remove(\"banana\")\n",
    "print(frutti)\n",
    "\n",
    "# Accedere a un elemento della lista (indice 0)\n",
    "print(frutti[0])"
   ]
  },
  {
   "cell_type": "code",
   "execution_count": null,
   "id": "8750ae26-a8be-426a-8cc3-e900d7163ffe",
   "metadata": {},
   "outputs": [],
   "source": [
    "# Stampare ogni frutto nella lista\n",
    "frutti = [\"mela\", \"banana\", \"ciliegia\"]\n",
    "for a in frutti:\n",
    "    print(a)"
   ]
  },
  {
   "cell_type": "code",
   "execution_count": null,
   "id": "09487e13-b9f6-4d2f-9f2e-402159476d6e",
   "metadata": {},
   "outputs": [],
   "source": [
    "# Esempio di ciclo while\n",
    "contatore = 0\n",
    "while contatore < 3:\n",
    "    print(\"Contatore:\", contatore)\n",
    "    contatore += 1"
   ]
  },
  {
   "cell_type": "code",
   "execution_count": null,
   "id": "3436cf2c-d67f-4dae-803f-63066ac70a77",
   "metadata": {},
   "outputs": [],
   "source": [
    "# Lista di numeri\n",
    "numeri = [10, 20, 30, 40, 50]\n",
    "\n",
    "# Ciclo che usa range(len(lista)) per estrarre l'indice\n",
    "for i in range(len(numeri)):\n",
    "    risultato = numeri[-i] * (-i)  # Usa l'indice per fare un calcolo con l'elemento della lista\n",
    "    print(f\"Indice: {-i}, Valore: {numeri[-i]}, Calcolo: {numeri[-i]} * {-i} = {risultato}\")\n"
   ]
  },
  {
   "cell_type": "code",
   "execution_count": null,
   "id": "2caacb8b-225e-426d-a04d-f1dd7920f101",
   "metadata": {},
   "outputs": [],
   "source": [
    "a= [n for n in range(20)]\n",
    "a"
   ]
  },
  {
   "cell_type": "code",
   "execution_count": null,
   "id": "1f5ec160-63fc-4c77-adea-7f5eaa3e4a66",
   "metadata": {},
   "outputs": [],
   "source": [
    "a=[]\n",
    "for b in range(20):\n",
    "    a.append(19-b)\n",
    "\n",
    "a"
   ]
  },
  {
   "cell_type": "code",
   "execution_count": null,
   "id": "c4e1cbe4-a521-4122-9faf-0bbd1ced3897",
   "metadata": {},
   "outputs": [],
   "source": [
    "a=range(20)\n",
    "b=list(a[::-1])\n",
    "b"
   ]
  },
  {
   "cell_type": "code",
   "execution_count": null,
   "id": "bde6656f-ec6c-4b41-9f13-886ab30aaf07",
   "metadata": {},
   "outputs": [],
   "source": []
  },
  {
   "cell_type": "code",
   "execution_count": null,
   "id": "d4099a3b-a38b-4e10-863e-37cfdb7cdb63",
   "metadata": {},
   "outputs": [],
   "source": []
  },
  {
   "cell_type": "code",
   "execution_count": null,
   "id": "c66994a2-f713-446b-a4b3-5ea0a4da7ed2",
   "metadata": {},
   "outputs": [],
   "source": []
  },
  {
   "cell_type": "code",
   "execution_count": null,
   "id": "e8882c14-0cbf-43b2-bc04-0c7850712d2e",
   "metadata": {},
   "outputs": [],
   "source": []
  },
  {
   "cell_type": "code",
   "execution_count": null,
   "id": "a97cd296-4194-4ee6-8301-1fa648d4dd80",
   "metadata": {},
   "outputs": [],
   "source": []
  },
  {
   "cell_type": "markdown",
   "id": "b0c22aa5-c5da-4ca3-b76f-bde6b4d2fa0c",
   "metadata": {},
   "source": [
    "### Istruzioni condizionali (attenti alla indentazione!!!)"
   ]
  },
  {
   "cell_type": "code",
   "execution_count": null,
   "id": "9fc2d760-481e-4145-ba18-d7ea151cb5c2",
   "metadata": {},
   "outputs": [],
   "source": [
    "numero = 10\n",
    "\n",
    "if numero > 0:\n",
    "    print(\"Il numero è positivo\")\n",
    "elif (numero == 0):\n",
    "    print(\"Il numero è zero\")\n",
    "else:\n",
    "    print(\"Il numero è negativo\")"
   ]
  },
  {
   "cell_type": "markdown",
   "id": "2d62bbc5-6cbf-4faf-af7a-c588ce6e2a7e",
   "metadata": {},
   "source": [
    "### COMANDI INTERESSANTI\n",
    "- doppio zero per restartare il kernel\n",
    "- ? per avere informazioni su un comando\n",
    "- help() per avere informazioni su un comando\n",
    "- nome del comando e scrivi Tab \n",
    "- Nome del comando, parentesi e shift tab"
   ]
  },
  {
   "cell_type": "code",
   "execution_count": null,
   "id": "c9b73388-363a-4cfb-972c-7a5f0233b3cb",
   "metadata": {},
   "outputs": [],
   "source": [
    "print("
   ]
  },
  {
   "cell_type": "code",
   "execution_count": null,
   "id": "c82f2e64-ec7f-41a6-8b34-f85b6293cff5",
   "metadata": {},
   "outputs": [],
   "source": [
    "help(print)"
   ]
  },
  {
   "cell_type": "code",
   "execution_count": null,
   "id": "5bbfaa69-210a-4412-981b-90b6c7d8dbc8",
   "metadata": {},
   "outputs": [],
   "source": [
    "tupla = (1, 2, 3)"
   ]
  },
  {
   "cell_type": "markdown",
   "id": "ce29d278-62d5-4875-9f6b-9584ab4228e3",
   "metadata": {},
   "source": [
    "### Ripulire variabili"
   ]
  },
  {
   "cell_type": "code",
   "execution_count": null,
   "id": "c9465195-1b03-40a9-82ec-ef76ac05bc30",
   "metadata": {},
   "outputs": [],
   "source": [
    "%reset? #-f #globale"
   ]
  },
  {
   "cell_type": "code",
   "execution_count": null,
   "id": "547458d7-cdd3-417f-b18a-c685e5417f7d",
   "metadata": {},
   "outputs": [],
   "source": [
    "del variabile1 #singola variabile\n",
    "del variabile2 #singola variabile"
   ]
  },
  {
   "cell_type": "markdown",
   "id": "c36313df-ea58-4f11-9aaf-07b21080073d",
   "metadata": {},
   "source": [
    "### TRY EXCEPT"
   ]
  },
  {
   "cell_type": "code",
   "execution_count": null,
   "id": "4923490b-4a42-445f-a2db-8ebdc5536a68",
   "metadata": {},
   "outputs": [],
   "source": [
    "try:\n",
    "    # Proviamo a eseguire la divisione\n",
    "    risultato = 10 / 0\n",
    "except ZeroDivisionError:\n",
    "    # Gestiamo l'errore di divisione per zero\n",
    "    print(\"Errore: Divisione per zero non permessa.\")\n"
   ]
  },
  {
   "cell_type": "code",
   "execution_count": null,
   "id": "baca6263-34f9-4c3a-8a36-570efdf89bf5",
   "metadata": {},
   "outputs": [],
   "source": [
    "try:\n",
    "    numero = int(input(\"Inserisci un numero: \"))\n",
    "    risultato = 10 / numero\n",
    "except ZeroDivisionError:\n",
    "    print(\"Errore: Non puoi dividere per zero.\")\n",
    "except ValueError:\n",
    "    print(\"Errore: Devi inserire un numero valido.\")"
   ]
  },
  {
   "cell_type": "code",
   "execution_count": null,
   "id": "e51a5f77-d54a-45d9-a811-aba606c71f5d",
   "metadata": {},
   "outputs": [],
   "source": []
  },
  {
   "cell_type": "code",
   "execution_count": null,
   "id": "f431aac4-22a9-487f-8fce-152c024305a0",
   "metadata": {},
   "outputs": [],
   "source": [
    "c = 5  # Inizializzo la variabile c\n",
    "\n",
    "try:\n",
    "    risultato = c + d  # Provo a sommare c e d\n",
    "except NameError:\n",
    "    print(\"Errore: La variabile 'd' non è stata definita.\")\n"
   ]
  },
  {
   "cell_type": "markdown",
   "id": "1a8a8093-5848-459a-8744-e822ecc3c8a7",
   "metadata": {},
   "source": [
    "### MATCH CASE"
   ]
  },
  {
   "cell_type": "code",
   "execution_count": null,
   "id": "99650d25-da74-422f-997b-d9f2b38365d0",
   "metadata": {},
   "outputs": [],
   "source": [
    "giorno = \"paperino\"\n",
    "\n",
    "match giorno:\n",
    "    case \"Lunedì\":\n",
    "        print(\"Inizio della settimana!\")\n",
    "    case \"Venerdì\":\n",
    "        print(\"Ecco il fine settimana!\")\n",
    "    case \"Sabato\" | \"Domenica\":  # Casi multipli\n",
    "        print(\"Weekend!\")\n",
    "    case _:\n",
    "        print(\"Giorno della settimana!\")\n"
   ]
  },
  {
   "cell_type": "code",
   "execution_count": null,
   "id": "d19343e5-118d-491d-b181-f0aeedf3a5b1",
   "metadata": {},
   "outputs": [],
   "source": [
    "def descrivi_punto(punto):\n",
    "    match punto:\n",
    "        case (0, 0):\n",
    "            print(\"Il punto è nell'origine.\")\n",
    "        case (x, 0):\n",
    "            print(f\"Il punto si trova sull'asse x a {x}.\")\n",
    "        case (0, y):\n",
    "            print(f\"Il punto si trova sull'asse y a {y}.\")\n",
    "        case (x, y):\n",
    "            print(f\"Il punto è a ({x}, {y}).\")\n"
   ]
  },
  {
   "cell_type": "code",
   "execution_count": null,
   "id": "c258fe87-6a0c-4641-b53d-deab19c112ff",
   "metadata": {},
   "outputs": [],
   "source": [
    "descrivi_punto([0,0])\n",
    "descrivi_punto([0,4])\n",
    "descrivi_punto([5,3])"
   ]
  },
  {
   "cell_type": "markdown",
   "id": "e002d6d9-017e-4017-b3bd-596992cba0ba",
   "metadata": {},
   "source": [
    "# SALVATE SEMPRE IFCJNASPIFQEBFPIQEBGFIPQEVB"
   ]
  },
  {
   "cell_type": "code",
   "execution_count": null,
   "id": "97be4cde-dc25-4de3-8f16-b8b9d584b9d9",
   "metadata": {},
   "outputs": [],
   "source": []
  },
  {
   "cell_type": "code",
   "execution_count": null,
   "id": "56f99b62-aa2b-4def-9b08-021e639cf966",
   "metadata": {},
   "outputs": [],
   "source": []
  },
  {
   "cell_type": "markdown",
   "id": "2576bbc9-beba-4fa2-8add-815f63340672",
   "metadata": {},
   "source": [
    "### Dizionari "
   ]
  },
  {
   "cell_type": "code",
   "execution_count": null,
   "id": "81e0e293-7444-463f-8a00-64d77d82423c",
   "metadata": {},
   "outputs": [],
   "source": [
    "# Creazione di un dizionario\n",
    "dati = {\n",
    "    'nome': 'Mario',\n",
    "    'età': 30,\n",
    "    'professione': 'Data Scientist'\n",
    "}\n",
    "\n",
    "# Accesso ai valori tramite le chiavi\n",
    "print(dati['nome'])  # Output: Mario\n",
    "print(dati['età'])   # Output: 30"
   ]
  },
  {
   "cell_type": "code",
   "execution_count": null,
   "id": "3910f9e2-636e-4f46-8a4e-d2ae4ee3669b",
   "metadata": {},
   "outputs": [],
   "source": [
    "# Modificare il valore associato alla chiave 'età'\n",
    "dati['età'] = 31\n",
    "\n",
    "# Aggiungere una nuova chiave-valore\n",
    "dati['città'] = 'Roma'"
   ]
  },
  {
   "cell_type": "code",
   "execution_count": null,
   "id": "fa64cbaf-4b04-4910-9dd0-d684cf3fdcbc",
   "metadata": {},
   "outputs": [],
   "source": [
    "dati.keys() "
   ]
  },
  {
   "cell_type": "code",
   "execution_count": null,
   "id": "d30accd9-2eda-4402-9741-8cca21cb3ccc",
   "metadata": {},
   "outputs": [],
   "source": [
    "dati.values()"
   ]
  },
  {
   "cell_type": "code",
   "execution_count": null,
   "id": "38585c70-5a06-4957-a326-bc7cda39e11a",
   "metadata": {},
   "outputs": [],
   "source": [
    "for chiave, valore in dati.items():\n",
    "    print(f\"{chiave}: {valore}\")"
   ]
  },
  {
   "cell_type": "markdown",
   "id": "f3c2512a-9b90-48bd-b8d3-d4b0e45ca005",
   "metadata": {},
   "source": [
    "### Aggiunta e modifica di valori in un dizionario"
   ]
  },
  {
   "cell_type": "code",
   "execution_count": null,
   "id": "3fb0e43d-29d0-47af-8dc4-ef8500494612",
   "metadata": {},
   "outputs": [],
   "source": [
    "# Creazione di un dizionario (mappa)\n",
    "dizionario = {\n",
    "    'nome': 'Alice',\n",
    "    'età': 28,\n",
    "    'professione': 'Ingegnere',\n",
    "    'città': 'Milano'\n",
    "}\n",
    "\n",
    "# Visualizzare il dizionario\n",
    "dizionario"
   ]
  },
  {
   "cell_type": "code",
   "execution_count": null,
   "id": "7fea2119-05e3-42c7-9071-07f29149fd39",
   "metadata": {},
   "outputs": [],
   "source": [
    "# Aggiungere una nuova coppia chiave-valore\n",
    "dizionario['email'] = 'alice@example.com'\n",
    "print(\"Dizionario dopo aver aggiunto una chiave 'email':\")\n",
    "print(dizionario)\n",
    "\n",
    "# Modificare il valore associato a una chiave esistente\n",
    "dizionario['età'] = 29\n",
    "print(\"\\nDizionario dopo aver aggiornato l'età:\")\n",
    "print(dizionario)"
   ]
  },
  {
   "cell_type": "markdown",
   "id": "9f020b4d-405e-4ec2-917e-bff97b48e618",
   "metadata": {},
   "source": [
    "### Iterazione su un dizionario"
   ]
  },
  {
   "cell_type": "code",
   "execution_count": null,
   "id": "459375a0-8752-40d8-85ed-82a5a5da036a",
   "metadata": {},
   "outputs": [],
   "source": [
    "# Iterare su un dizionario per ottenere chiavi e valori\n",
    "print(\"Chiavi e valori nel dizionario:\")\n",
    "for chiave, valore in dizionario.items():\n",
    "    print(f\"{chiave}: {valore}\")"
   ]
  },
  {
   "cell_type": "markdown",
   "id": "027075a3-5171-48dd-81fc-c9f593250428",
   "metadata": {},
   "source": [
    "### Verifica dell'esistenza di una chiave"
   ]
  },
  {
   "cell_type": "code",
   "execution_count": null,
   "id": "05a79dc3-91b2-421a-b720-d9c8b291181c",
   "metadata": {},
   "outputs": [],
   "source": [
    "# Verificare se una chiave esiste nel dizionario\n",
    "chiave_da_cercare = 'città'\n",
    "\n",
    "if chiave_da_cercare in dizionario:\n",
    "    print(f\"La chiave '{chiave_da_cercare}' esiste nel dizionario con il valore: {dizionario[chiave_da_cercare]}\")\n",
    "else:\n",
    "    print(f\"La chiave '{chiave_da_cercare}' non esiste nel dizionario.\")"
   ]
  },
  {
   "cell_type": "code",
   "execution_count": null,
   "id": "0b61d913-520d-4a21-9227-24d1468c0a4b",
   "metadata": {},
   "outputs": [],
   "source": [
    "'professione' in dizionario"
   ]
  },
  {
   "cell_type": "markdown",
   "id": "807a71a0-9eed-49a5-ba07-0aca4adb4397",
   "metadata": {},
   "source": [
    "### Rimozione di elementi da un dizionario"
   ]
  },
  {
   "cell_type": "code",
   "execution_count": null,
   "id": "913ab143-2e75-4a06-89f4-57c98bc88788",
   "metadata": {},
   "outputs": [],
   "source": [
    "# Rimozione di una coppia chiave-valore dal dizionario\n",
    "dizionario.pop('email', None)  # Il secondo parametro evita errori se la chiave non esiste\n",
    "print(\"Dizionario dopo aver rimosso la chiave 'email':\")\n",
    "print(dizionario)"
   ]
  },
  {
   "cell_type": "code",
   "execution_count": null,
   "id": "2e46cee0-599b-445c-9d70-75366a472af7",
   "metadata": {},
   "outputs": [],
   "source": []
  },
  {
   "cell_type": "code",
   "execution_count": null,
   "id": "503d88ee-f407-4c18-9da2-bd470d7fbc4e",
   "metadata": {},
   "outputs": [],
   "source": []
  },
  {
   "cell_type": "code",
   "execution_count": null,
   "id": "f118d826-5f48-476b-bce4-4f6509168540",
   "metadata": {},
   "outputs": [],
   "source": []
  },
  {
   "cell_type": "markdown",
   "id": "9c8061cd-d2b5-4776-b960-974c50e9ec1a",
   "metadata": {},
   "source": [
    "Rappresentazione di Record di Dati: I dizionari possono rappresentare singole righe di un dataset dove ogni chiave è il nome di una colonna e ogni valore è il valore corrispondente:"
   ]
  },
  {
   "cell_type": "code",
   "execution_count": null,
   "id": "486da677-5eaa-4356-af06-084729f555f4",
   "metadata": {},
   "outputs": [],
   "source": [
    "record = {\n",
    "    'nome': 'Mario',\n",
    "    'età': 30,\n",
    "    'professione': 'Data Scientist',\n",
    "    'stipendio': 50000\n",
    "}"
   ]
  },
  {
   "cell_type": "code",
   "execution_count": null,
   "id": "073f006b-2bad-4b17-84d9-7bdb29f47037",
   "metadata": {},
   "outputs": [],
   "source": [
    "dataset = [\n",
    "    {'nome': 'Mario', 'età': 30, 'professione': 'Data Scientist', 'stipendio': 50000},\n",
    "    {'nome': 'Luigi', 'età': 35, 'professione': 'Analista', 'stipendio': 45000},\n",
    "    {'nome': 'Anna', 'età': 28, 'professione': 'Ingegnere', 'stipendio': 55000}\n",
    "]"
   ]
  },
  {
   "cell_type": "code",
   "execution_count": null,
   "id": "6cbbfd6a-a532-48bc-a228-f30fd9baab09",
   "metadata": {},
   "outputs": [],
   "source": [
    "# Contare quante persone hanno una certa professione\n",
    "professioni = ['Data Scientist', 'Analista', 'Ingegnere', 'Data Scientist', 'Analista']\n",
    "\n",
    "conteggi = {}\n",
    "for professione in professioni:\n",
    "    if professione in conteggi:\n",
    "        conteggi[professione] += 1\n",
    "    else:\n",
    "        conteggi[professione] = 1\n",
    "\n",
    "print(conteggi)\n"
   ]
  },
  {
   "cell_type": "markdown",
   "id": "8757e759-1a15-40e4-b00e-fe6d5239ead3",
   "metadata": {},
   "source": [
    "### MAPPING\n",
    "\n",
    "Mappatura di Variabili: I dizionari sono spesso utilizzati per mappare variabili in modo efficiente. Ad esempio, se hai dati categorici che devono essere convertiti in numeri, puoi usare un dizionario per mappare ciascuna categoria a un valore numerico:"
   ]
  },
  {
   "cell_type": "code",
   "execution_count": null,
   "id": "e5d61de0-1632-426d-8c2c-29404ccfa7ab",
   "metadata": {},
   "outputs": [],
   "source": [
    "mappa_professioni = {\n",
    "    'Data Scientist': 1,\n",
    "    'Analista': 2,\n",
    "    'Ingegnere': 3\n",
    "}\n",
    "\n",
    "professioni_numeric = [mappa_professioni[prof] for prof in professioni]\n",
    "print(professioni_numeric)"
   ]
  },
  {
   "cell_type": "markdown",
   "id": "21f5b31b-5c42-4d6f-b572-829038a1111c",
   "metadata": {},
   "source": [
    "Uso nei DataFrame di Pandas: In Data Analytics, le librerie come Pandas usano spesso i dizionari per creare strutture dati più complesse. Ad esempio, puoi creare un DataFrame da un dizionario di liste:"
   ]
  },
  {
   "cell_type": "code",
   "execution_count": null,
   "id": "b2d835ed-e792-4a3f-a6dd-29b13f2562d4",
   "metadata": {},
   "outputs": [],
   "source": [
    "import pandas as pd\n",
    "\n",
    "dati = {\n",
    "    'nome': ['Mario', 'Luigi', 'Anna'],\n",
    "    'età': [30, 35, 28],\n",
    "    'professione': ['Data Scientist', 'Analista', 'Ingegnere']\n",
    "}\n",
    "\n",
    "df = pd.DataFrame(dati)\n",
    "print(df)"
   ]
  },
  {
   "cell_type": "code",
   "execution_count": null,
   "id": "9fb89f9f-e3ef-4d60-94d7-950f2049a8cf",
   "metadata": {},
   "outputs": [],
   "source": []
  },
  {
   "cell_type": "code",
   "execution_count": null,
   "id": "d5e07373-e92b-4461-ab6e-d827137ccf36",
   "metadata": {},
   "outputs": [],
   "source": []
  },
  {
   "cell_type": "markdown",
   "id": "10c938f1-8926-49f8-8dde-fd7f2d984292",
   "metadata": {},
   "source": [
    "### SET\n",
    " I Set in Python\n",
    " Un set è una collezione non ordinata di elementi unici. A differenza delle liste, i set non ammettono duplicati e non mantengono l'ordine degli elementi.\n",
    "\n"
   ]
  },
  {
   "cell_type": "code",
   "execution_count": null,
   "id": "d5553c04-6672-4025-abef-6bdd640edbe5",
   "metadata": {},
   "outputs": [],
   "source": [
    "# Creiamo un set di esempio\n",
    "set_esempio = {1, 2, 3, 4, 5}\n",
    "\n",
    "# Visualizziamo il set\n",
    "set_esempio"
   ]
  },
  {
   "cell_type": "code",
   "execution_count": null,
   "id": "580ea4ca-2776-4af1-b5a1-5c2b7f917474",
   "metadata": {},
   "outputs": [],
   "source": [
    "# I set non permettono elementi duplicati. Se proviamo a creare un set con duplicati, questi saranno automaticamente eliminati.\n",
    "\n",
    "set_con_duplicati = {1, 2, 2, 3, 4, 4, 5}\n",
    "\n",
    "# Visualizziamo il set per vedere come i duplicati vengono gestiti\n",
    "set_con_duplicati"
   ]
  },
  {
   "cell_type": "code",
   "execution_count": null,
   "id": "af2fdf1c-af0a-4563-8fae-9caf113c97c7",
   "metadata": {},
   "outputs": [],
   "source": [
    "# Possiamo aggiungere elementi a un set usando il metodo `add()`\n",
    "set_esempio.add(6)\n",
    "\n",
    "# Possiamo anche rimuovere elementi con il metodo `remove()`\n",
    "set_esempio.remove(3)\n",
    "\n",
    "# Visualizziamo il set aggiornato\n",
    "set_esempio"
   ]
  },
  {
   "cell_type": "code",
   "execution_count": null,
   "id": "c209d2ca-9410-43ba-aaae-628a63c50d10",
   "metadata": {},
   "outputs": [],
   "source": [
    "# Creiamo due set per esplorare alcune operazioni comuni\n",
    "set_A = {1, 2, 3, 4}\n",
    "set_B = {3, 4, 5, 6}\n",
    "\n",
    "# Unione di set (unisce tutti gli elementi, rimuovendo i duplicati)\n",
    "unione = set_A.union(set_B)\n",
    "\n",
    "# Intersezione di set (trova gli elementi comuni tra i due set)\n",
    "intersezione = set_A.intersection(set_B)\n",
    "\n",
    "# Differenza di set (elementi presenti in set_A ma non in set_B)\n",
    "differenza = set_A.difference(set_B)\n",
    "\n",
    "differenza2 = set_B.difference(set_A)\n",
    "\n",
    "unione, intersezione, differenza, differenza2"
   ]
  },
  {
   "cell_type": "code",
   "execution_count": null,
   "id": "230e034b-e2fe-4d32-8cac-cd6eef08c460",
   "metadata": {},
   "outputs": [],
   "source": [
    "# Verificare se un elemento è presente in un set\n",
    "is_present = 5 in set_A\n",
    "\n",
    "# Lunghezza del set (numero di elementi)\n",
    "lunghezza_set = len(set_A)\n",
    "\n",
    "is_present, lunghezza_set"
   ]
  },
  {
   "cell_type": "code",
   "execution_count": null,
   "id": "79014d4b-4c80-4a9e-9841-6659d24a5eef",
   "metadata": {},
   "outputs": [],
   "source": []
  },
  {
   "cell_type": "markdown",
   "id": "11b08656-070f-4e50-b4da-b450982c2306",
   "metadata": {},
   "source": [
    "### FUNZIONI E FUNZIONI LAMBDA"
   ]
  },
  {
   "cell_type": "code",
   "execution_count": null,
   "id": "c73e3818-96d8-4d1e-9c4d-d012fee70ea4",
   "metadata": {},
   "outputs": [],
   "source": [
    "# Definizione della funzione per l'elevamento al quadrato\n",
    "def elevamento_al_quadrato(x):\n",
    "    return x ** 2\n",
    "\n",
    "# Utilizzo della funzione\n",
    "numero = 5\n",
    "risultato = elevamento_al_quadrato(numero)\n",
    "print(f\"Il quadrato di {numero} è {risultato}.\")"
   ]
  },
  {
   "cell_type": "code",
   "execution_count": null,
   "id": "6ff718ea-14e5-4309-ae0f-52aad776fa23",
   "metadata": {},
   "outputs": [],
   "source": [
    "# Definizione della funzione lambda per l'elevamento al quadrato\n",
    "elevamento_al_quadrato_lambda = lambda x: x ** 2\n",
    "\n",
    "# Utilizzo della funzione lambda\n",
    "numero = 7\n",
    "risultato_lambda = elevamento_al_quadrato_lambda(numero)\n",
    "print(f\"Il quadrato di {numero} usando lambda è {risultato_lambda}.\")"
   ]
  },
  {
   "cell_type": "code",
   "execution_count": null,
   "id": "04d1b8f8-7da8-4e95-8b0f-ed86468f29d5",
   "metadata": {},
   "outputs": [],
   "source": [
    "numeri = [1, 2, 3, 4]\n",
    "quadrati = list(map(lambda x: x ** 2, numeri))\n",
    "print(quadrati)  # Output: [1, 4, 9, 16]"
   ]
  },
  {
   "cell_type": "code",
   "execution_count": null,
   "id": "9ea3b30b-c792-449f-a923-bdcedee530a9",
   "metadata": {},
   "outputs": [],
   "source": []
  },
  {
   "attachments": {
    "32c4b2ae-1472-4d5b-aa62-75ca1842824d.png": {
     "image/png": "[encoded data removed]"
    }
   },
   "cell_type": "markdown",
   "id": "ccdf81db-0035-45ee-8c78-e1d6f26cc928",
   "metadata": {},
   "source": [
    "### FUNZIONI DI ORDINE SUPERIORE e.g. map()\n",
    "![image.png](attachment:32c4b2ae-1472-4d5b-aa62-75ca1842824d.png)"
   ]
  },
  {
   "cell_type": "code",
   "execution_count": null,
   "id": "24d0ee87-f723-47f1-84c0-97d6ad04c490",
   "metadata": {},
   "outputs": [],
   "source": []
  },
  {
   "cell_type": "code",
   "execution_count": null,
   "id": "c6749191-a71c-4a07-95f5-6a9525de5fcb",
   "metadata": {},
   "outputs": [],
   "source": []
  },
  {
   "cell_type": "code",
   "execution_count": null,
   "id": "aa6983ce-a394-4a3e-93db-3ab3f1f4cdf4",
   "metadata": {},
   "outputs": [],
   "source": []
  },
  {
   "cell_type": "code",
   "execution_count": null,
   "id": "a2620bd4-c1b6-4f82-a5d6-adab16ee0364",
   "metadata": {},
   "outputs": [],
   "source": []
  },
  {
   "cell_type": "code",
   "execution_count": null,
   "id": "20da9dc0-e6fe-40f1-8fcb-4d666bf31bb5",
   "metadata": {},
   "outputs": [],
   "source": []
  },
  {
   "cell_type": "code",
   "execution_count": null,
   "id": "eafb4484-2f91-44cd-b264-2871b72c5dfc",
   "metadata": {},
   "outputs": [],
   "source": []
  },
  {
   "cell_type": "code",
   "execution_count": null,
   "id": "5ee8f3bf-8f3d-4c74-880f-d8bd113dceb2",
   "metadata": {},
   "outputs": [],
   "source": []
  },
  {
   "cell_type": "code",
   "execution_count": null,
   "id": "d9417b94-11ca-4ff6-b4c2-89af83f9dd95",
   "metadata": {},
   "outputs": [],
   "source": []
  },
  {
   "cell_type": "code",
   "execution_count": null,
   "id": "c40f2245-43a7-42f0-98d3-83f6ae173e82",
   "metadata": {},
   "outputs": [],
   "source": []
  },
  {
   "cell_type": "code",
   "execution_count": null,
   "id": "16af5e79-bc33-40eb-b759-1033bdb7ad73",
   "metadata": {},
   "outputs": [],
   "source": []
  },
  {
   "cell_type": "code",
   "execution_count": null,
   "id": "ef87808f-c08f-4aa9-b6f9-1ad7c528ede1",
   "metadata": {},
   "outputs": [],
   "source": []
  },
  {
   "cell_type": "code",
   "execution_count": null,
   "id": "904fbae0-7e99-41c3-8d49-9622a0e24282",
   "metadata": {},
   "outputs": [],
   "source": []
  },
  {
   "cell_type": "code",
   "execution_count": null,
   "id": "fc119522-036f-4b55-a4cc-37381d79871c",
   "metadata": {},
   "outputs": [],
   "source": []
  },
  {
   "cell_type": "code",
   "execution_count": null,
   "id": "aab83ad5-9b51-4a0d-b3b2-3aa625a3f805",
   "metadata": {},
   "outputs": [],
   "source": []
  },
  {
   "cell_type": "code",
   "execution_count": null,
   "id": "21f60258-da78-4500-9aaa-68a5db32bdba",
   "metadata": {},
   "outputs": [],
   "source": []
  },
  {
   "cell_type": "code",
   "execution_count": null,
   "id": "27a36cbb-9352-4ff1-81ad-64a84bb1654f",
   "metadata": {},
   "outputs": [],
   "source": []
  },
  {
   "cell_type": "code",
   "execution_count": null,
   "id": "9ad380f9-5794-4256-ad4e-4417a48af0cb",
   "metadata": {},
   "outputs": [],
   "source": []
  },
  {
   "cell_type": "code",
   "execution_count": null,
   "id": "a21f77d1-90f5-4d43-b542-24622abfe8b1",
   "metadata": {},
   "outputs": [],
   "source": []
  },
  {
   "cell_type": "code",
   "execution_count": null,
   "id": "8c2a9788-e51d-44b9-8ba4-4d3e33098603",
   "metadata": {},
   "outputs": [],
   "source": [
    "dvbsipbweifhuweifb"
   ]
  },
  {
   "cell_type": "code",
   "execution_count": null,
   "id": "2331fbbb-c8f1-4b20-8dcb-76ed4495d59f",
   "metadata": {},
   "outputs": [],
   "source": []
  },
  {
   "cell_type": "code",
   "execution_count": null,
   "id": "a833bbdd-8d21-4d1d-b45b-65cafc039ff2",
   "metadata": {},
   "outputs": [],
   "source": []
  },
  {
   "cell_type": "code",
   "execution_count": null,
   "id": "eb024895-6ce3-40ff-a553-dc34a5bd6f0e",
   "metadata": {},
   "outputs": [],
   "source": []
  },
  {
   "cell_type": "markdown",
   "id": "8a50728c-cc8d-452a-88ea-ac0a0a8a287f",
   "metadata": {},
   "source": [
    "# ciao a tutti\n",
    "il codice qua sotto non ci farà diventare milionari"
   ]
  },
  {
   "cell_type": "code",
   "execution_count": null,
   "id": "cd53c178-4298-403f-b8d8-c4575c33d3ef",
   "metadata": {},
   "outputs": [],
   "source": []
  },
  {
   "cell_type": "code",
   "execution_count": null,
   "id": "e5983648-1814-41c7-8314-c1fb46747ad1",
   "metadata": {},
   "outputs": [],
   "source": []
  },
  {
   "cell_type": "code",
   "execution_count": null,
   "id": "2ae8c54a-c9be-42b8-bceb-f1907adff0ae",
   "metadata": {},
   "outputs": [],
   "source": []
  },
  {
   "cell_type": "code",
   "execution_count": null,
   "id": "f3fbd0ee-84ab-4d2f-bb5e-21dcf014ea76",
   "metadata": {},
   "outputs": [],
   "source": []
  },
  {
   "cell_type": "code",
   "execution_count": null,
   "id": "6d46df6b-af4f-4939-897e-15d8479b3853",
   "metadata": {},
   "outputs": [],
   "source": []
  }
 ],
 "metadata": {
  "kernelspec": {
   "display_name": "Python 3 (ipykernel)",
   "language": "python",
   "name": "python3"
  },
  "language_info": {
   "codemirror_mode": {
    "name": "ipython",
    "version": 3
   },
   "file_extension": ".py",
   "mimetype": "text/x-python",
   "name": "python",
   "nbconvert_exporter": "python",
   "pygments_lexer": "ipython3",
   "version": "3.13.2"
  }
 },
 "nbformat": 4,
 "nbformat_minor": 5
}
