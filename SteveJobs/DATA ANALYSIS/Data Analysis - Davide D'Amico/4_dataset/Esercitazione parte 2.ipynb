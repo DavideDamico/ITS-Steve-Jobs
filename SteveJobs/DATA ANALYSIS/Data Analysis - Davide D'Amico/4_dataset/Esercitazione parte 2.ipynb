{
 "cells": [
  {
   "cell_type": "code",
   "execution_count": 1,
   "id": "15929830-ea5d-493b-ae40-51bdf08028ec",
   "metadata": {},
   "outputs": [],
   "source": [
    "# 1. Cosa c è dentro quel database\n",
    "# 2. dimensioni \n",
    "    # quanti record, quali etichette\n",
    "\n",
    "# 3. Per i caratteri quuantitativi \n",
    "    # .describe()\n",
    "# 4. qualche groupby interessante\n",
    "\n",
    "# PLOTTARE "
   ]
  },
  {
   "cell_type": "code",
   "execution_count": 50,
   "id": "6b8639f4-e9f1-469b-b150-3f14d19e5c72",
   "metadata": {},
   "outputs": [],
   "source": [
    "import pandas as pd\n",
    "import numpy as np\n",
    "import matplotlib.pyplot as plt"
   ]
  },
  {
   "cell_type": "code",
   "execution_count": 3,
   "id": "0e1690ef-bf31-4d1f-992b-f730c1333fee",
   "metadata": {},
   "outputs": [],
   "source": [
    "league_ds = pd.read_csv(\"League of legend Champions 2024.csv\")"
   ]
  },
  {
   "cell_type": "code",
   "execution_count": 4,
   "id": "30d98ef6-28fe-4b45-b8c3-7a6f4e37a407",
   "metadata": {},
   "outputs": [
    {
     "data": {
      "text/html": [
       "<div>\n",
       "<style scoped>\n",
       "    .dataframe tbody tr th:only-of-type {\n",
       "        vertical-align: middle;\n",
       "    }\n",
       "\n",
       "    .dataframe tbody tr th {\n",
       "        vertical-align: top;\n",
       "    }\n",
       "\n",
       "    .dataframe thead th {\n",
       "        text-align: right;\n",
       "    }\n",
       "</style>\n",
       "<table border=\"1\" class=\"dataframe\">\n",
       "  <thead>\n",
       "    <tr style=\"text-align: right;\">\n",
       "      <th></th>\n",
       "      <th>Name</th>\n",
       "      <th>Nick Name</th>\n",
       "      <th>Classes</th>\n",
       "      <th>Release Date</th>\n",
       "      <th>Last Changed</th>\n",
       "      <th>Blue Essence</th>\n",
       "      <th>RP</th>\n",
       "      <th>Difficulty</th>\n",
       "      <th>Role</th>\n",
       "      <th>Range type</th>\n",
       "      <th>Resourse type</th>\n",
       "      <th>Base HP</th>\n",
       "      <th>Base mana</th>\n",
       "    </tr>\n",
       "  </thead>\n",
       "  <tbody>\n",
       "    <tr>\n",
       "      <th>0</th>\n",
       "      <td>Aatrox</td>\n",
       "      <td>The darkin blade</td>\n",
       "      <td>Juggernaut</td>\n",
       "      <td>2013-06-13</td>\n",
       "      <td>V14.14</td>\n",
       "      <td>4800</td>\n",
       "      <td>880</td>\n",
       "      <td>Advanced</td>\n",
       "      <td>Top</td>\n",
       "      <td>Melee</td>\n",
       "      <td>Blood Well</td>\n",
       "      <td>650</td>\n",
       "      <td>0</td>\n",
       "    </tr>\n",
       "    <tr>\n",
       "      <th>1</th>\n",
       "      <td>Ahri</td>\n",
       "      <td>The nine-tailed fox</td>\n",
       "      <td>Burst</td>\n",
       "      <td>2011-12-14</td>\n",
       "      <td>V14.18</td>\n",
       "      <td>3150</td>\n",
       "      <td>790</td>\n",
       "      <td>Intermediate</td>\n",
       "      <td>Middle</td>\n",
       "      <td>Ranged</td>\n",
       "      <td>Mana</td>\n",
       "      <td>590</td>\n",
       "      <td>418</td>\n",
       "    </tr>\n",
       "    <tr>\n",
       "      <th>2</th>\n",
       "      <td>Akali</td>\n",
       "      <td>The rogue assassin</td>\n",
       "      <td>Assassin</td>\n",
       "      <td>2010-05-11</td>\n",
       "      <td>V14.18</td>\n",
       "      <td>3150</td>\n",
       "      <td>790</td>\n",
       "      <td>Expert</td>\n",
       "      <td>Top,Middle</td>\n",
       "      <td>Melee</td>\n",
       "      <td>Energy</td>\n",
       "      <td>600</td>\n",
       "      <td>200</td>\n",
       "    </tr>\n",
       "    <tr>\n",
       "      <th>3</th>\n",
       "      <td>Akshan</td>\n",
       "      <td>The rogue sentinel</td>\n",
       "      <td>Marksman  Assassin</td>\n",
       "      <td>2021-07-22</td>\n",
       "      <td>V14.14</td>\n",
       "      <td>4800</td>\n",
       "      <td>880</td>\n",
       "      <td>Intermediate_Plus</td>\n",
       "      <td>Middle</td>\n",
       "      <td>Ranged</td>\n",
       "      <td>Mana</td>\n",
       "      <td>630</td>\n",
       "      <td>350</td>\n",
       "    </tr>\n",
       "    <tr>\n",
       "      <th>4</th>\n",
       "      <td>Alistar</td>\n",
       "      <td>The minotaur</td>\n",
       "      <td>Vanguard</td>\n",
       "      <td>2009-02-21</td>\n",
       "      <td>V14.16</td>\n",
       "      <td>1350</td>\n",
       "      <td>585</td>\n",
       "      <td>Novice</td>\n",
       "      <td>Support</td>\n",
       "      <td>Melee</td>\n",
       "      <td>Mana</td>\n",
       "      <td>685</td>\n",
       "      <td>350</td>\n",
       "    </tr>\n",
       "    <tr>\n",
       "      <th>...</th>\n",
       "      <td>...</td>\n",
       "      <td>...</td>\n",
       "      <td>...</td>\n",
       "      <td>...</td>\n",
       "      <td>...</td>\n",
       "      <td>...</td>\n",
       "      <td>...</td>\n",
       "      <td>...</td>\n",
       "      <td>...</td>\n",
       "      <td>...</td>\n",
       "      <td>...</td>\n",
       "      <td>...</td>\n",
       "      <td>...</td>\n",
       "    </tr>\n",
       "    <tr>\n",
       "      <th>163</th>\n",
       "      <td>Zeri</td>\n",
       "      <td>The spark of zaun</td>\n",
       "      <td>Marksman</td>\n",
       "      <td>2022-01-20</td>\n",
       "      <td>V14.18</td>\n",
       "      <td>4800</td>\n",
       "      <td>880</td>\n",
       "      <td>Intermediate_Plus</td>\n",
       "      <td>Bottom</td>\n",
       "      <td>Ranged</td>\n",
       "      <td>Mana</td>\n",
       "      <td>600</td>\n",
       "      <td>250</td>\n",
       "    </tr>\n",
       "    <tr>\n",
       "      <th>164</th>\n",
       "      <td>Ziggs</td>\n",
       "      <td>The hexplosives expert</td>\n",
       "      <td>Artillery</td>\n",
       "      <td>2012-02-01</td>\n",
       "      <td>V14.18</td>\n",
       "      <td>4800</td>\n",
       "      <td>880</td>\n",
       "      <td>Novice</td>\n",
       "      <td>Bottom,Middle</td>\n",
       "      <td>Ranged</td>\n",
       "      <td>Mana</td>\n",
       "      <td>606</td>\n",
       "      <td>480</td>\n",
       "    </tr>\n",
       "    <tr>\n",
       "      <th>165</th>\n",
       "      <td>Zilean</td>\n",
       "      <td>The chronokeeper</td>\n",
       "      <td>Specialist</td>\n",
       "      <td>2009-04-18</td>\n",
       "      <td>V13.22</td>\n",
       "      <td>1350</td>\n",
       "      <td>585</td>\n",
       "      <td>Intermediate</td>\n",
       "      <td>Support</td>\n",
       "      <td>Ranged</td>\n",
       "      <td>Mana</td>\n",
       "      <td>574</td>\n",
       "      <td>452</td>\n",
       "    </tr>\n",
       "    <tr>\n",
       "      <th>166</th>\n",
       "      <td>Zoe</td>\n",
       "      <td>The aspect of twilight</td>\n",
       "      <td>Burst</td>\n",
       "      <td>2017-11-21</td>\n",
       "      <td>V14.9</td>\n",
       "      <td>4800</td>\n",
       "      <td>880</td>\n",
       "      <td>Expert</td>\n",
       "      <td>Middle</td>\n",
       "      <td>Ranged</td>\n",
       "      <td>Mana</td>\n",
       "      <td>630</td>\n",
       "      <td>425</td>\n",
       "    </tr>\n",
       "    <tr>\n",
       "      <th>167</th>\n",
       "      <td>Zyra</td>\n",
       "      <td>Rise of the thorns</td>\n",
       "      <td>Catcher</td>\n",
       "      <td>2012-07-24 00:00:00</td>\n",
       "      <td>V14.15</td>\n",
       "      <td>3150</td>\n",
       "      <td>790</td>\n",
       "      <td>Intermediate_Plus</td>\n",
       "      <td>Support</td>\n",
       "      <td>Ranged</td>\n",
       "      <td>Mana</td>\n",
       "      <td>574</td>\n",
       "      <td>418</td>\n",
       "    </tr>\n",
       "  </tbody>\n",
       "</table>\n",
       "<p>168 rows × 13 columns</p>\n",
       "</div>"
      ],
      "text/plain": [
       "        Name               Nick Name             Classes         Release Date  \\\n",
       "0     Aatrox        The darkin blade          Juggernaut           2013-06-13   \n",
       "1       Ahri     The nine-tailed fox               Burst           2011-12-14   \n",
       "2      Akali      The rogue assassin            Assassin           2010-05-11   \n",
       "3     Akshan      The rogue sentinel  Marksman  Assassin           2021-07-22   \n",
       "4    Alistar            The minotaur            Vanguard           2009-02-21   \n",
       "..       ...                     ...                 ...                  ...   \n",
       "163     Zeri       The spark of zaun            Marksman           2022-01-20   \n",
       "164    Ziggs  The hexplosives expert           Artillery           2012-02-01   \n",
       "165   Zilean        The chronokeeper          Specialist           2009-04-18   \n",
       "166      Zoe  The aspect of twilight               Burst           2017-11-21   \n",
       "167     Zyra      Rise of the thorns             Catcher  2012-07-24 00:00:00   \n",
       "\n",
       "    Last Changed  Blue Essence   RP         Difficulty           Role  \\\n",
       "0         V14.14          4800  880           Advanced            Top   \n",
       "1         V14.18          3150  790       Intermediate         Middle   \n",
       "2         V14.18          3150  790             Expert     Top,Middle   \n",
       "3         V14.14          4800  880  Intermediate_Plus         Middle   \n",
       "4         V14.16          1350  585             Novice        Support   \n",
       "..           ...           ...  ...                ...            ...   \n",
       "163       V14.18          4800  880  Intermediate_Plus         Bottom   \n",
       "164       V14.18          4800  880             Novice  Bottom,Middle   \n",
       "165       V13.22          1350  585       Intermediate        Support   \n",
       "166        V14.9          4800  880             Expert         Middle   \n",
       "167       V14.15          3150  790  Intermediate_Plus        Support   \n",
       "\n",
       "    Range type Resourse type  Base HP  Base mana  \n",
       "0        Melee    Blood Well      650          0  \n",
       "1       Ranged          Mana      590        418  \n",
       "2        Melee        Energy      600        200  \n",
       "3       Ranged          Mana      630        350  \n",
       "4        Melee          Mana      685        350  \n",
       "..         ...           ...      ...        ...  \n",
       "163     Ranged          Mana      600        250  \n",
       "164     Ranged          Mana      606        480  \n",
       "165     Ranged          Mana      574        452  \n",
       "166     Ranged          Mana      630        425  \n",
       "167     Ranged          Mana      574        418  \n",
       "\n",
       "[168 rows x 13 columns]"
      ]
     },
     "execution_count": 4,
     "metadata": {},
     "output_type": "execute_result"
    }
   ],
   "source": [
    "#1\n",
    "league_ds"
   ]
  },
  {
   "cell_type": "code",
   "execution_count": 5,
   "id": "591c712b-c891-4b6c-bff5-515cba294af9",
   "metadata": {},
   "outputs": [
    {
     "data": {
      "text/plain": [
       "(168, 13)"
      ]
     },
     "execution_count": 5,
     "metadata": {},
     "output_type": "execute_result"
    }
   ],
   "source": [
    "#2\n",
    "league_ds.shape"
   ]
  },
  {
   "cell_type": "code",
   "execution_count": 6,
   "id": "786f8e8f-208f-4ceb-bcb9-2d2e5b0a59a3",
   "metadata": {},
   "outputs": [
    {
     "data": {
      "text/plain": [
       "Name             0\n",
       "Nick Name        0\n",
       "Classes          0\n",
       "Release Date     0\n",
       "Last Changed     0\n",
       "Blue Essence     0\n",
       "RP               0\n",
       "Difficulty       0\n",
       "Role             0\n",
       "Range type       0\n",
       "Resourse type    0\n",
       "Base HP          0\n",
       "Base mana        0\n",
       "dtype: int64"
      ]
     },
     "execution_count": 6,
     "metadata": {},
     "output_type": "execute_result"
    }
   ],
   "source": [
    "league_ds.isnull().sum()"
   ]
  },
  {
   "cell_type": "code",
   "execution_count": 7,
   "id": "05e43641-dcd4-4c8c-9d77-917451e8ef6d",
   "metadata": {},
   "outputs": [
    {
     "data": {
      "text/plain": [
       "Name             object\n",
       "Nick Name        object\n",
       "Classes          object\n",
       "Release Date     object\n",
       "Last Changed     object\n",
       "Blue Essence      int64\n",
       "RP                int64\n",
       "Difficulty       object\n",
       "Role             object\n",
       "Range type       object\n",
       "Resourse type    object\n",
       "Base HP           int64\n",
       "Base mana         int64\n",
       "dtype: object"
      ]
     },
     "execution_count": 7,
     "metadata": {},
     "output_type": "execute_result"
    }
   ],
   "source": [
    "#2\n",
    "league_ds.dtypes"
   ]
  },
  {
   "cell_type": "code",
   "execution_count": 8,
   "id": "7e10d014-efe8-4c30-8c60-0f338a2604b4",
   "metadata": {},
   "outputs": [
    {
     "data": {
      "text/html": [
       "<div>\n",
       "<style scoped>\n",
       "    .dataframe tbody tr th:only-of-type {\n",
       "        vertical-align: middle;\n",
       "    }\n",
       "\n",
       "    .dataframe tbody tr th {\n",
       "        vertical-align: top;\n",
       "    }\n",
       "\n",
       "    .dataframe thead th {\n",
       "        text-align: right;\n",
       "    }\n",
       "</style>\n",
       "<table border=\"1\" class=\"dataframe\">\n",
       "  <thead>\n",
       "    <tr style=\"text-align: right;\">\n",
       "      <th></th>\n",
       "      <th>Blue Essence</th>\n",
       "      <th>RP</th>\n",
       "      <th>Base HP</th>\n",
       "      <th>Base mana</th>\n",
       "    </tr>\n",
       "  </thead>\n",
       "  <tbody>\n",
       "    <tr>\n",
       "      <th>count</th>\n",
       "      <td>168.0</td>\n",
       "      <td>168.0</td>\n",
       "      <td>168.0</td>\n",
       "      <td>168.0</td>\n",
       "    </tr>\n",
       "    <tr>\n",
       "      <th>mean</th>\n",
       "      <td>3157.0</td>\n",
       "      <td>706.0</td>\n",
       "      <td>618.0</td>\n",
       "      <td>315.0</td>\n",
       "    </tr>\n",
       "    <tr>\n",
       "      <th>std</th>\n",
       "      <td>1733.0</td>\n",
       "      <td>221.0</td>\n",
       "      <td>39.0</td>\n",
       "      <td>122.0</td>\n",
       "    </tr>\n",
       "    <tr>\n",
       "      <th>min</th>\n",
       "      <td>450.0</td>\n",
       "      <td>260.0</td>\n",
       "      <td>410.0</td>\n",
       "      <td>0.0</td>\n",
       "    </tr>\n",
       "    <tr>\n",
       "      <th>25%</th>\n",
       "      <td>1350.0</td>\n",
       "      <td>585.0</td>\n",
       "      <td>596.0</td>\n",
       "      <td>280.0</td>\n",
       "    </tr>\n",
       "    <tr>\n",
       "      <th>50%</th>\n",
       "      <td>3150.0</td>\n",
       "      <td>790.0</td>\n",
       "      <td>625.0</td>\n",
       "      <td>332.0</td>\n",
       "    </tr>\n",
       "    <tr>\n",
       "      <th>75%</th>\n",
       "      <td>4800.0</td>\n",
       "      <td>880.0</td>\n",
       "      <td>645.0</td>\n",
       "      <td>400.0</td>\n",
       "    </tr>\n",
       "    <tr>\n",
       "      <th>max</th>\n",
       "      <td>7800.0</td>\n",
       "      <td>975.0</td>\n",
       "      <td>696.0</td>\n",
       "      <td>530.0</td>\n",
       "    </tr>\n",
       "  </tbody>\n",
       "</table>\n",
       "</div>"
      ],
      "text/plain": [
       "       Blue Essence     RP  Base HP  Base mana\n",
       "count         168.0  168.0    168.0      168.0\n",
       "mean         3157.0  706.0    618.0      315.0\n",
       "std          1733.0  221.0     39.0      122.0\n",
       "min           450.0  260.0    410.0        0.0\n",
       "25%          1350.0  585.0    596.0      280.0\n",
       "50%          3150.0  790.0    625.0      332.0\n",
       "75%          4800.0  880.0    645.0      400.0\n",
       "max          7800.0  975.0    696.0      530.0"
      ]
     },
     "execution_count": 8,
     "metadata": {},
     "output_type": "execute_result"
    }
   ],
   "source": [
    "#3\n",
    "league_ds.describe().round()"
   ]
  },
  {
   "cell_type": "code",
   "execution_count": 32,
   "id": "bf3fc64d-a5d8-4d54-aba3-9e2d05fbe37c",
   "metadata": {},
   "outputs": [],
   "source": [
    "#4\n",
    "groupedByRange = league_ds.groupby('Range type')\n",
    "groupedByClasses = league_ds.groupby('Classes')\n",
    "groupedByDifficulty = league_ds.groupby('Difficulty')"
   ]
  },
  {
   "cell_type": "code",
   "execution_count": 10,
   "id": "7d2f428b-08dc-47bb-a778-dedccb99614f",
   "metadata": {},
   "outputs": [
    {
     "data": {
      "text/plain": [
       "{'Melee': [0, 2, 4, 5, 14, 15, 17, 18, 20, 22, 24, 25, 27, 28, 30, 33, 34, 35, 36, 37, 39, 41, 42, 45, 46, 49, 50, 51, 58, 59, 60, 61, 63, 65, 67, 69, 70, 71, 76, 78, 79, 82, 84, 86, 87, 90, 91, 92, 93, 95, 96, 97, 98, 99, 101, 102, 103, 104, 106, 107, 108, 109, 112, 115, 116, 117, 118, 119, 120, 122, 127, 129, 131, 132, 136, 137, 140, 147, 148, 151, 152, 153, 156, 157, 158, 159, 161, 162], 'Ranged': [1, 3, 6, 7, 8, 9, 10, 11, 12, 13, 16, 19, 21, 23, 26, 29, 31, 32, 38, 40, 43, 44, 47, 48, 52, 53, 54, 55, 56, 57, 62, 64, 66, 68, 72, 73, 74, 75, 77, 80, 81, 83, 85, 88, 89, 94, 100, 105, 110, 111, 113, 114, 121, 123, 124, 125, 126, 128, 130, 133, 134, 135, 138, 139, 141, 142, 143, 144, 145, 146, 149, 150, 154, 155, 160, 163, 164, 165, 166, 167]}"
      ]
     },
     "execution_count": 10,
     "metadata": {},
     "output_type": "execute_result"
    }
   ],
   "source": [
    "groupRange = groupedByRange.groups\n",
    "groupRange"
   ]
  },
  {
   "cell_type": "code",
   "execution_count": 11,
   "id": "069ffdbb-4217-43f1-9e59-f98f5eeb2ecd",
   "metadata": {},
   "outputs": [
    {
     "data": {
      "text/plain": [
       "{'Artillery': [44, 51, 145, 155, 164], 'Assassin': [2, 28, 30, 34, 59, 60, 64, 84, 91, 99, 116, 131, 162], 'Assassin  Catcher': [98], 'Assassin  Diver': [25, 107], 'Assassin  Skirmisher': [158], 'Battlemage': [6, 10, 21, 58, 77, 109, 110, 126, 130, 149, 150], 'Burst': [1, 7, 16, 68, 72, 94, 128, 138, 144, 146, 166], 'Burst  Artillery': [75], 'Burst  Catcher': [88], 'Burst  Enchanter': [57, 114], 'Burst  Skirmisher': [127], 'Catcher': [13, 15, 47, 83, 101, 134, 167], 'Diver': [18, 20, 29, 42, 46, 49, 69, 93, 96, 103, 106, 147, 152, 153, 156], 'Enchanter': [48, 74, 80, 85, 105, 124, 125, 160], 'Enchanter  Warden': [132], 'Juggernaut': [0, 24, 26, 37, 45, 82, 86, 115, 118, 136, 140, 141, 151, 159], 'Mage  Assassin': [11], 'Marksman': [8, 9, 19, 23, 27, 31, 53, 55, 56, 65, 67, 73, 81, 111, 121, 123, 135, 139, 143, 154, 163], 'Marksman  Artillery': [142], 'Marksman  Assassin': [3], 'Marksman  Catcher': [52], 'Marksman  Enchanter': [113], 'Skirmisher': [14, 33, 41, 50, 62, 66, 71, 79, 90, 108, 137, 148, 157], 'Specialist': [12, 22, 32, 36, 38, 40, 43, 61, 63, 89, 100, 119, 133, 165], 'Vanguard': [4, 5, 39, 70, 76, 78, 87, 92, 95, 102, 104, 112, 120, 122, 161], 'Warden': [17, 35, 97, 117, 129], 'Warden  Skirmisher': [54]}"
      ]
     },
     "execution_count": 11,
     "metadata": {},
     "output_type": "execute_result"
    }
   ],
   "source": [
    "groupClasses = groupedByClasses.groups\n",
    "groupClasses"
   ]
  },
  {
   "cell_type": "code",
   "execution_count": 33,
   "id": "521a598b-75d1-48bf-b662-231a2ec95c02",
   "metadata": {},
   "outputs": [
    {
     "data": {
      "text/plain": [
       "{'Advanced': [0, 11, 13, 19, 27, 44, 65, 68, 94, 113, 127, 128, 134, 158, 162], 'Beginner': [5, 7, 9, 22, 26, 37, 48, 53, 76, 77, 78, 79, 80, 81, 86, 87, 91, 92, 93, 102, 118, 121, 122, 125, 129, 133, 135, 136, 140], 'Expert': [2, 8, 12, 20, 36, 46, 60, 69, 71, 89, 99, 108, 111, 157, 166], 'Intermediate': [1, 18, 21, 23, 28, 29, 31, 33, 34, 39, 40, 55, 59, 62, 63, 64, 72, 85, 95, 97, 98, 101, 103, 104, 105, 115, 131, 138, 139, 142, 143, 145, 146, 148, 149, 154, 155, 165], 'Intermediate_Plus': [3, 6, 10, 30, 32, 38, 43, 45, 47, 51, 52, 56, 61, 66, 82, 100, 107, 109, 110, 116, 119, 130, 141, 150, 159, 160, 163, 167], 'Novice': [4, 14, 15, 16, 17, 24, 25, 35, 41, 42, 49, 50, 54, 57, 58, 67, 70, 73, 74, 75, 83, 84, 88, 90, 96, 106, 112, 114, 117, 120, 123, 124, 126, 132, 137, 144, 147, 151, 152, 153, 156, 161, 164]}"
      ]
     },
     "execution_count": 33,
     "metadata": {},
     "output_type": "execute_result"
    }
   ],
   "source": [
    "groupDifficulty = groupedByDifficulty.groups\n",
    "groupDifficulty"
   ]
  },
  {
   "cell_type": "code",
   "execution_count": 12,
   "id": "357dd11c-e5a0-4496-a9bd-3bc61e6d4d8b",
   "metadata": {},
   "outputs": [
    {
     "name": "stdout",
     "output_type": "stream",
     "text": [
      "Etichetta Melee: 88 istanze\n",
      "Etichetta Ranged: 80 istanze\n"
     ]
    }
   ],
   "source": [
    "for tipo, indici in groupRange.items():\n",
    "    conteggio = len(indici)\n",
    "    print(f\"Etichetta {tipo}: {conteggio} istanze\")"
   ]
  },
  {
   "cell_type": "code",
   "execution_count": 13,
   "id": "7d33db9e-b033-4dfa-8e32-3bd8979c5311",
   "metadata": {},
   "outputs": [
    {
     "name": "stdout",
     "output_type": "stream",
     "text": [
      "Etichetta Artillery: 5 istanze\n",
      "Etichetta Assassin: 13 istanze\n",
      "Etichetta Assassin  Catcher: 1 istanze\n",
      "Etichetta Assassin  Diver: 2 istanze\n",
      "Etichetta Assassin  Skirmisher: 1 istanze\n",
      "Etichetta Battlemage: 11 istanze\n",
      "Etichetta Burst: 11 istanze\n",
      "Etichetta Burst  Artillery: 1 istanze\n",
      "Etichetta Burst  Catcher: 1 istanze\n",
      "Etichetta Burst  Enchanter: 2 istanze\n",
      "Etichetta Burst  Skirmisher: 1 istanze\n",
      "Etichetta Catcher: 7 istanze\n",
      "Etichetta Diver: 15 istanze\n",
      "Etichetta Enchanter: 8 istanze\n",
      "Etichetta Enchanter  Warden: 1 istanze\n",
      "Etichetta Juggernaut: 14 istanze\n",
      "Etichetta Mage  Assassin: 1 istanze\n",
      "Etichetta Marksman: 21 istanze\n",
      "Etichetta Marksman  Artillery: 1 istanze\n",
      "Etichetta Marksman  Assassin: 1 istanze\n",
      "Etichetta Marksman  Catcher: 1 istanze\n",
      "Etichetta Marksman  Enchanter: 1 istanze\n",
      "Etichetta Skirmisher: 13 istanze\n",
      "Etichetta Specialist: 14 istanze\n",
      "Etichetta Vanguard: 15 istanze\n",
      "Etichetta Warden: 5 istanze\n",
      "Etichetta Warden  Skirmisher: 1 istanze\n"
     ]
    }
   ],
   "source": [
    "for tipo, indici in groupClasses.items():\n",
    "    conteggio = len(indici)\n",
    "    print(f\"Etichetta {tipo}: {conteggio} istanze\")"
   ]
  },
  {
   "cell_type": "code",
   "execution_count": 34,
   "id": "8a7a9145-c46e-47e2-8ad1-b149c7b5234a",
   "metadata": {},
   "outputs": [
    {
     "name": "stdout",
     "output_type": "stream",
     "text": [
      "Etichetta Advanced: 15 istanze\n",
      "Etichetta Beginner: 29 istanze\n",
      "Etichetta Expert: 15 istanze\n",
      "Etichetta Intermediate: 38 istanze\n",
      "Etichetta Intermediate_Plus: 28 istanze\n",
      "Etichetta Novice: 43 istanze\n"
     ]
    }
   ],
   "source": [
    "for tipo, indici in groupDifficulty.items():\n",
    "    conteggio = len(indici)\n",
    "    print(f\"Etichetta {tipo}: {conteggio} istanze\")"
   ]
  },
  {
   "cell_type": "code",
   "execution_count": 53,
   "id": "3562a153-f02d-496e-9f4a-03acfbb6f9c0",
   "metadata": {},
   "outputs": [],
   "source": [
    "## Dati per il grafico\n",
    "\n",
    "## Data di rilascio\n",
    "releaseDate = league_ds[\"Release Date\"]\n",
    "releaseDate = releaseDate.sort_values(ascending=False).reset_index(drop=True)\n",
    "array_releaseData = releaseDate.to_numpy()\n",
    "array_releaseDataOnlyYear = []\n",
    "\n",
    "## Ciclo for per prendere soltanto il primo elemento del .split\n",
    "for data in array_releaseData:\n",
    "    year = data.split(\"-\")[0]\n",
    "    array_releaseDataOnlyYear.append(year)\n",
    "\n",
    "yearCounts = {}\n",
    "\n",
    "for year in array_releaseDataOnlyYear:\n",
    "    if year in yearCounts:\n",
    "        yearCounts[year] += 1\n",
    "    else:\n",
    "        yearCounts[year] = 1\n",
    "\n",
    "years = list(yearCounts.keys())\n",
    "championsCounts = list(yearCounts.values())\n",
    "years = sorted(yearCounts.keys())\n",
    "championsCounts = [yearCounts[year] for year in years]\n",
    "\n",
    "## Difficoltà\n",
    "championsDifficulty = league_ds[\"Difficulty\"]\n",
    "championsDifficulty = championsDifficulty.sort_values(ascending=False).reset_index(drop=True)\n",
    "array_championsDifficulty = championsDifficulty.to_numpy()\n",
    "\n",
    "difficultyCounts = {}\n",
    "\n",
    "for difficulty in array_championsDifficulty:\n",
    "    if difficulty in difficultyCounts:\n",
    "        difficultyCounts[difficulty] += 1\n",
    "    else:\n",
    "        difficultyCounts[difficulty] = 1\n",
    "\n",
    "custom_order_difficultyCounts = ['Novice', 'Beginner', 'Intermediate', 'Intermediate_Plus', 'Advanced', 'Expert']\n",
    "difficultyCounts = sorted_difficultyCounts = dict(\n",
    "    sorted(difficultyCounts.items(), key=lambda x: custom_order_difficultyCounts.index(x[0]))\n",
    ")\n",
    "\n",
    "labels = list(difficultyCounts.keys())\n",
    "values = list(difficultyCounts.values())"
   ]
  },
  {
   "cell_type": "code",
   "execution_count": 51,
   "id": "12db1a0b-a46b-4a9d-a31b-bb5a4a18f3f7",
   "metadata": {},
   "outputs": [
    {
     "data": {
      "image/png": "[encoded data removed]",
      "text/plain": [
       "<Figure size 640x480 with 1 Axes>"
      ]
     },
     "metadata": {},
     "output_type": "display_data"
    }
   ],
   "source": [
    "## Inizio codice grafico - Data di rilascio\n",
    "fig, ax = plt.subplots()\n",
    "\n",
    "ax.bar(years, championsCounts, color='tab:blue')\n",
    "\n",
    "ax.set_ylabel('Numero di campioni rilasciati')\n",
    "ax.set_title('Numero di campioni rilasciati per anno (2009–2024)')\n",
    "\n",
    "plt.xticks(rotation=45)\n",
    "plt.tight_layout()      \n",
    "plt.show()"
   ]
  },
  {
   "cell_type": "code",
   "execution_count": 57,
   "id": "041dd17b-4097-4233-ad14-578c9983ce8d",
   "metadata": {},
   "outputs": [
    {
     "data": {
      "image/png": "[encoded data removed]",
      "text/plain": [
       "<Figure size 640x480 with 1 Axes>"
      ]
     },
     "metadata": {},
     "output_type": "display_data"
    }
   ],
   "source": [
    "## Inizio codice grafico - Difficoltà\n",
    "fig, ax = plt.subplots()\n",
    "\n",
    "ax.bar(labels, values, color='tab:orange')\n",
    "\n",
    "ax.set_ylabel('Numero di campioni')\n",
    "ax.set_title('Numero di campioni per livello di difficoltà')\n",
    "\n",
    "plt.xticks(rotation=25)\n",
    "plt.tight_layout()\n",
    "plt.show()\n"
   ]
  }
 ],
 "metadata": {
  "kernelspec": {
   "display_name": "Python 3 (ipykernel)",
   "language": "python",
   "name": "python3"
  },
  "language_info": {
   "codemirror_mode": {
    "name": "ipython",
    "version": 3
   },
   "file_extension": ".py",
   "mimetype": "text/x-python",
   "name": "python",
   "nbconvert_exporter": "python",
   "pygments_lexer": "ipython3",
   "version": "3.13.2"
  }
 },
 "nbformat": 4,
 "nbformat_minor": 5
}
